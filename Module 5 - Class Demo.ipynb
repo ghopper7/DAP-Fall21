{
 "cells": [
  {
   "cell_type": "markdown",
   "id": "6fc3cc54",
   "metadata": {},
   "source": [
    "## Dictionary \n",
    "\n",
    "A dictionary is another Python data type. A dictionary is a collection of items, each item within the dictionary is stored as a key-value pair. To create a dictionary, you enclose a comma-separated list of pairs in curly brackets \"{ }\", with a colon separating each key from each value:\n",
    "\n",
    "    dict = {1: \"apple\", 2: \"peach\", 3: \"cherry\"}\n",
    "    \n",
    "In the above example, the keys are 1, 2, and 3 - and they each have a fruit as a value. Together, the pairs are referred to as an item. \n",
    "\n",
    "A dictionary is ordered (it can be indexed), changeable (items can be added or removed), and does not allow duplicate keys. "
   ]
  },
  {
   "cell_type": "code",
   "execution_count": 1,
   "id": "5a2f2317",
   "metadata": {},
   "outputs": [
    {
     "name": "stdout",
     "output_type": "stream",
     "text": [
      "{1: 'apple', 2: 'peach', 3: 'cherry'}\n",
      "<class 'dict'>\n"
     ]
    }
   ],
   "source": [
    "## Each item within a dictionary is a key-value pair\n",
    "\n",
    "fruits = {1: \"apple\", 2: \"peach\", 3: \"cherry\"}\n",
    "\n",
    "## 1, 2, and 3 are the keys\n",
    "## apple, peach, cherry are the values\n",
    "\n",
    "print(fruits)\n",
    "print(type(fruits))"
   ]
  },
  {
   "cell_type": "code",
   "execution_count": 3,
   "id": "925828c2",
   "metadata": {},
   "outputs": [
    {
     "name": "stdout",
     "output_type": "stream",
     "text": [
      "{1: 140, 2: 45, 3: 'Unknown Qty'}\n"
     ]
    }
   ],
   "source": [
    "## A dictionary can hold various data types\n",
    "\n",
    "fruits_qty = {1: 140, 2: 45, 3: \"Unknown Qty\"}\n",
    "\n",
    "print(fruits_qty)"
   ]
  },
  {
   "cell_type": "code",
   "execution_count": 4,
   "id": "a9824029",
   "metadata": {},
   "outputs": [
    {
     "name": "stdout",
     "output_type": "stream",
     "text": [
      "{1: 'apple', 2: 'peach', 3: 'pineapple'}\n"
     ]
    }
   ],
   "source": [
    "## Dictionary keys cannot be duplicated within a single dictionary\n",
    "\n",
    "fruits = {1: \"apple\", 2: \"peach\", 3: \"cherry\", 3: \"pineapple\"}\n",
    "\n",
    "## the above dictionary has two duplicate keys; which pair will print?\n",
    "\n",
    "print(fruits)"
   ]
  },
  {
   "cell_type": "code",
   "execution_count": 5,
   "id": "e4d334f6",
   "metadata": {},
   "outputs": [
    {
     "data": {
      "text/plain": [
       "3"
      ]
     },
     "execution_count": 5,
     "metadata": {},
     "output_type": "execute_result"
    }
   ],
   "source": [
    "## determine how many items a dictionary has\n",
    "\n",
    "len(fruits)"
   ]
  },
  {
   "cell_type": "code",
   "execution_count": 6,
   "id": "e70668ed",
   "metadata": {},
   "outputs": [
    {
     "name": "stdout",
     "output_type": "stream",
     "text": [
      "{1: 'apple', 2: 'peach', 3: ['cherry', 'pineapple'], 4: 'plum'}\n"
     ]
    }
   ],
   "source": [
    "## keys can be assigned more than one value\n",
    "\n",
    "fruits = {1: \"apple\", 2: \"peach\", 3: [\"cherry\", \"pineapple\"], 4: \"plum\"}\n",
    "\n",
    "print(fruits)"
   ]
  },
  {
   "cell_type": "code",
   "execution_count": 7,
   "id": "21877cf0",
   "metadata": {},
   "outputs": [
    {
     "name": "stdout",
     "output_type": "stream",
     "text": [
      "{1: 'apple', 2: 'peach', 3: ['cherry', 'pineapple', 5, 817.1, False], 4: 'plum'}\n"
     ]
    }
   ],
   "source": [
    "## keys can be assigned more than one value data type\n",
    "\n",
    "fruits = {1: \"apple\", 2: \"peach\", 3: [\"cherry\", \"pineapple\", 5, 817.1, False], 4: \"plum\"}\n",
    "\n",
    "print(fruits)"
   ]
  },
  {
   "cell_type": "markdown",
   "id": "a36aafdd",
   "metadata": {},
   "source": [
    "## [ Exercise 1 ]\n",
    "\n",
    "Create a dictionary of your favorite items - call the dictionary \"faves\". You should have three key names: movie, food, color. The value for each key should be your favorite thing associated with that key (i.e., what is your favorite color?). Print the dictionary after you create it. "
   ]
  },
  {
   "cell_type": "code",
   "execution_count": 8,
   "id": "ee0aad05",
   "metadata": {},
   "outputs": [],
   "source": [
    "## Defining dictionary of favorites called \"faves\"\n",
    "faves = {'movie': \"Harold & Maude\", 'food': \"Beer\", 'color': \"Azure\"}"
   ]
  },
  {
   "cell_type": "code",
   "execution_count": 21,
   "id": "1c74f857",
   "metadata": {},
   "outputs": [
    {
     "name": "stdout",
     "output_type": "stream",
     "text": [
      "{'movie': 'Harold & Maude', 'food': 'Beer', 'color': 'Azure'}\n",
      "\n",
      "My favorite movie is Harold & Maude\n"
     ]
    },
    {
     "data": {
      "text/plain": [
       "'Harold & Maude'"
      ]
     },
     "execution_count": 21,
     "metadata": {},
     "output_type": "execute_result"
    }
   ],
   "source": [
    "print(faves)\n",
    "print(f\"\\nMy favorite movie is\",faves[\"movie\"])\n",
    "faves[\"movie\"]"
   ]
  },
  {
   "cell_type": "markdown",
   "id": "4f360db4",
   "metadata": {},
   "source": [
    "### Accessing Dictionary Items\n",
    "\n",
    "You can access the items of a dictionary by referencing the key name. Similar to 'indexing', you will use square brackets to access the values within your dictionary. "
   ]
  },
  {
   "cell_type": "code",
   "execution_count": 31,
   "id": "00467382",
   "metadata": {},
   "outputs": [
    {
     "name": "stdout",
     "output_type": "stream",
     "text": [
      "{'Morning': 68, 'Afternoon': 75, 'Evening': 71}\n"
     ]
    }
   ],
   "source": [
    "## define a dictionary \n",
    "\n",
    "weather = {\"Morning\":68, \"Afternoon\": 75, \"Evening\": 71}\n",
    "\n",
    "# print dictionary \n",
    "\n",
    "print(weather)"
   ]
  },
  {
   "cell_type": "code",
   "execution_count": 32,
   "id": "bc0a778b",
   "metadata": {},
   "outputs": [
    {
     "data": {
      "text/plain": [
       "68"
      ]
     },
     "execution_count": 32,
     "metadata": {},
     "output_type": "execute_result"
    }
   ],
   "source": [
    "## accessing the value by calling the key\n",
    "\n",
    "weather[\"Morning\"]"
   ]
  },
  {
   "cell_type": "code",
   "execution_count": 33,
   "id": "0f1526ea",
   "metadata": {},
   "outputs": [
    {
     "name": "stdout",
     "output_type": "stream",
     "text": [
      "75\n"
     ]
    }
   ],
   "source": [
    "## you can save the value of a key to a variable \n",
    "\n",
    "x = weather[\"Afternoon\"]\n",
    "\n",
    "print(x)"
   ]
  },
  {
   "cell_type": "markdown",
   "id": "0f36ac0d",
   "metadata": {},
   "source": [
    "#### the get() method \n",
    "\n",
    "You can use the get() method to return the value associated with a dictionary key. "
   ]
  },
  {
   "cell_type": "code",
   "execution_count": 34,
   "id": "13a76d49",
   "metadata": {},
   "outputs": [
    {
     "data": {
      "text/plain": [
       "68"
      ]
     },
     "execution_count": 34,
     "metadata": {},
     "output_type": "execute_result"
    }
   ],
   "source": [
    "## return the value associated with the key 'Morning'\n",
    "\n",
    "weather.get(\"Morning\")"
   ]
  },
  {
   "cell_type": "code",
   "execution_count": 35,
   "id": "2282e7a0",
   "metadata": {},
   "outputs": [
    {
     "name": "stdout",
     "output_type": "stream",
     "text": [
      "75\n"
     ]
    }
   ],
   "source": [
    "## return the value associated with the key 'Afternoon'\n",
    "# save the value to a variable called x\n",
    "\n",
    "x = weather.get(\"Afternoon\")\n",
    "\n",
    "print(x)"
   ]
  },
  {
   "cell_type": "markdown",
   "id": "8eb3603a",
   "metadata": {},
   "source": [
    "## [ Exercise 2 ]\n",
    "\n",
    "Using the \"faves\" dictionary from exercise 1, use the get() method to return the value of the second item in the dictionary. "
   ]
  },
  {
   "cell_type": "code",
   "execution_count": 36,
   "id": "753c32b3",
   "metadata": {},
   "outputs": [
    {
     "name": "stdout",
     "output_type": "stream",
     "text": [
      "Beer\n"
     ]
    }
   ],
   "source": [
    "x = faves.get(\"food\")\n",
    "print(x)"
   ]
  },
  {
   "cell_type": "markdown",
   "id": "6de4b79d",
   "metadata": {},
   "source": [
    "#### the keys() method\n",
    "\n",
    "You can use the keys() method to reurn a list of keys in the dictionary. "
   ]
  },
  {
   "cell_type": "code",
   "execution_count": 37,
   "id": "e69fdacb",
   "metadata": {},
   "outputs": [
    {
     "data": {
      "text/plain": [
       "dict_keys(['Morning', 'Afternoon', 'Evening'])"
      ]
     },
     "execution_count": 37,
     "metadata": {},
     "output_type": "execute_result"
    }
   ],
   "source": [
    "## get a list of keys for the dictionary 'weather'\n",
    "\n",
    "weather.keys()"
   ]
  },
  {
   "cell_type": "code",
   "execution_count": 38,
   "id": "cb955ba6",
   "metadata": {},
   "outputs": [
    {
     "name": "stdout",
     "output_type": "stream",
     "text": [
      "dict_keys(['Morning', 'Afternoon', 'Evening'])\n"
     ]
    }
   ],
   "source": [
    "## save the list of keys to a variable name\n",
    "\n",
    "list_of_keys = weather.keys()\n",
    "\n",
    "print(list_of_keys)"
   ]
  },
  {
   "cell_type": "markdown",
   "id": "8792eeb5",
   "metadata": {},
   "source": [
    "#### the values() method\n",
    "\n",
    "You can use the values() method to return a list of values in the dictionary. "
   ]
  },
  {
   "cell_type": "code",
   "execution_count": 39,
   "id": "328f8df1",
   "metadata": {},
   "outputs": [
    {
     "data": {
      "text/plain": [
       "dict_values([68, 75, 71])"
      ]
     },
     "execution_count": 39,
     "metadata": {},
     "output_type": "execute_result"
    }
   ],
   "source": [
    "## get a list of values for the dictionary 'weather'\n",
    "\n",
    "weather.values()"
   ]
  },
  {
   "cell_type": "code",
   "execution_count": 40,
   "id": "ea78cdff",
   "metadata": {},
   "outputs": [
    {
     "name": "stdout",
     "output_type": "stream",
     "text": [
      "dict_values([68, 75, 71])\n"
     ]
    }
   ],
   "source": [
    "## save the list of keys to a variable name\n",
    "\n",
    "list_of_values = weather.values()\n",
    "\n",
    "print(list_of_values)"
   ]
  },
  {
   "cell_type": "markdown",
   "id": "fe32077e",
   "metadata": {},
   "source": [
    "#### the items() method\n",
    "\n",
    "You can use the items() method to return a list of items(key-value pairs) in a dictionary. The items will be returned as separate tuples stored in a list. "
   ]
  },
  {
   "cell_type": "code",
   "execution_count": 41,
   "id": "f458b911",
   "metadata": {},
   "outputs": [
    {
     "data": {
      "text/plain": [
       "dict_items([('Morning', 68), ('Afternoon', 75), ('Evening', 71)])"
      ]
     },
     "execution_count": 41,
     "metadata": {},
     "output_type": "execute_result"
    }
   ],
   "source": [
    "## get a list of items for the dictionary 'weather'\n",
    "weather.items()"
   ]
  },
  {
   "cell_type": "code",
   "execution_count": 42,
   "id": "4960b3df",
   "metadata": {},
   "outputs": [
    {
     "name": "stdout",
     "output_type": "stream",
     "text": [
      "dict_items([('Morning', 68), ('Afternoon', 75), ('Evening', 71)])\n"
     ]
    }
   ],
   "source": [
    "## save the list of items to a variable name\n",
    "\n",
    "list_of_items = weather.items()\n",
    "\n",
    "print(list_of_items)"
   ]
  },
  {
   "cell_type": "markdown",
   "id": "4cfdeee9",
   "metadata": {},
   "source": [
    "## [ Exercise 3 ]\n",
    "\n",
    "Again, use your faves dictionary and return the following:\n",
    "\n",
    "    * Use the appropriate method to print all the key names from faves\n",
    "    * Use the appropriate method to print all the values from faves\n",
    "    * Use the appropriate method to print all the item pairs from faves"
   ]
  },
  {
   "cell_type": "code",
   "execution_count": 26,
   "id": "428675e2",
   "metadata": {},
   "outputs": [
    {
     "name": "stdout",
     "output_type": "stream",
     "text": [
      "Keys are:\t dict_keys(['movie', 'food', 'color'])\n",
      "Values are:\t dict_values(['Harold & Maude', 'Beer', 'Azure'])\n",
      "Item pairs are:\t dict_items([('movie', 'Harold & Maude'), ('food', 'Beer'), ('color', 'Azure')])\n"
     ]
    }
   ],
   "source": [
    "## Set variables for each, then print\n",
    "Faves_Keys=faves.keys()\n",
    "Faves_Values=faves.values()\n",
    "Faves_Items=faves.items()\n",
    "print(\"Keys are:\\t\", Faves_Keys)\n",
    "print(\"Values are:\\t\", Faves_Values)\n",
    "print(\"Item pairs are:\\t\", Faves_Items)"
   ]
  },
  {
   "cell_type": "markdown",
   "id": "341c8bda",
   "metadata": {},
   "source": [
    "#### check if a Key exists in a dictionary\n",
    "\n",
    "You can check if a key exisits within a dictionary by using the \"in\" keyword. "
   ]
  },
  {
   "cell_type": "code",
   "execution_count": 43,
   "id": "5ad59271",
   "metadata": {},
   "outputs": [
    {
     "data": {
      "text/plain": [
       "True"
      ]
     },
     "execution_count": 43,
     "metadata": {},
     "output_type": "execute_result"
    }
   ],
   "source": [
    "## does the weather dictionary have the key \"Morning\"\n",
    "\n",
    "\"Morning\" in weather"
   ]
  },
  {
   "cell_type": "code",
   "execution_count": 44,
   "id": "68a3bfde",
   "metadata": {},
   "outputs": [
    {
     "data": {
      "text/plain": [
       "False"
      ]
     },
     "execution_count": 44,
     "metadata": {},
     "output_type": "execute_result"
    }
   ],
   "source": [
    "## does the weather dictionary have the key \"Dawn\"\n",
    "\n",
    "\"Dawn\" in weather"
   ]
  },
  {
   "cell_type": "code",
   "execution_count": 48,
   "id": "7557d091",
   "metadata": {},
   "outputs": [
    {
     "data": {
      "text/plain": [
       "False"
      ]
     },
     "execution_count": 48,
     "metadata": {},
     "output_type": "execute_result"
    }
   ],
   "source": [
    "## does the weather dictionary have the key \"afternoon\"\n",
    "\n",
    "\"afternoon\" in weather\n",
    "#\"Afternoon\" in weather"
   ]
  },
  {
   "cell_type": "markdown",
   "id": "5a331f8b",
   "metadata": {},
   "source": [
    "### Changing Dictionary Items\n",
    "\n",
    "You can change the value of a specific item within a dictionary. "
   ]
  },
  {
   "cell_type": "code",
   "execution_count": 31,
   "id": "796f5f9e",
   "metadata": {},
   "outputs": [
    {
     "name": "stdout",
     "output_type": "stream",
     "text": [
      "{'John': 37, 'Sasha': 43, 'Courtney': 22, 'Mario': 51, 'Molly': 19, 'Steve': 64}\n"
     ]
    }
   ],
   "source": [
    "## define a new dictionary with name and age pairs\n",
    "\n",
    "neighbors = {\"John\": 37, \"Sasha\": 43, \"Courtney\": 22, \"Mario\": 51, \"Molly\": 19, \"Steve\": 64}\n",
    "\n",
    "print(neighbors)"
   ]
  },
  {
   "cell_type": "code",
   "execution_count": 32,
   "id": "1c843b6f",
   "metadata": {},
   "outputs": [
    {
     "name": "stdout",
     "output_type": "stream",
     "text": [
      "{'John': 37, 'Sasha': 43, 'Courtney': 22, 'Mario': 52, 'Molly': 19, 'Steve': 64}\n"
     ]
    }
   ],
   "source": [
    "## change the value associated with a specific key\n",
    "\n",
    "neighbors[\"Mario\"] = 52\n",
    "\n",
    "## confirm the changes\n",
    "\n",
    "print(neighbors)"
   ]
  },
  {
   "cell_type": "markdown",
   "id": "ace18608",
   "metadata": {},
   "source": [
    "#### the update() method\n",
    "\n",
    "You can use the update method to update an entire pair within a dictionary. "
   ]
  },
  {
   "cell_type": "code",
   "execution_count": 33,
   "id": "71f46d1e",
   "metadata": {},
   "outputs": [
    {
     "name": "stdout",
     "output_type": "stream",
     "text": [
      "{'John': 37, 'Sasha': 43, 'Courtney': 22, 'Mario': 52, 'Molly': 17, 'Steve': 64}\n"
     ]
    }
   ],
   "source": [
    "## Update both the key and value for an item; change a current item\n",
    "\n",
    "neighbors.update({\"Molly\": 17})\n",
    "\n",
    "print(neighbors)"
   ]
  },
  {
   "cell_type": "code",
   "execution_count": 34,
   "id": "9776ca4d",
   "metadata": {},
   "outputs": [
    {
     "name": "stdout",
     "output_type": "stream",
     "text": [
      "{'John': 39, 'Sasha': 43, 'Courtney': 22, 'Mario': 10, 'Molly': 17, 'Steve': 64}\n"
     ]
    }
   ],
   "source": [
    "## Use the update method to update multiple items at the same time \n",
    "\n",
    "neighbors.update({\"John\": 39, \"Mario\": 10})\n",
    "\n",
    "print(neighbors)"
   ]
  },
  {
   "cell_type": "markdown",
   "id": "0d0fc0f5",
   "metadata": {},
   "source": [
    "## [ Exercise 4 ]\n",
    "\n",
    "Create a new dictionary called animals. This dictionary should have 6 items -- the keys should be numbers between 1 - 6, and the values should be a series of animals (i.e, 2: \"Horse\"). \n",
    "\n",
    "Using this list, complete the following steps:\n",
    "\n",
    "* Update the value of key 3 -- change the animal to a type of bird\n",
    "* Update the value of key 5 -- change the animal to a type of bug\n",
    "* Without using the update method, change the animal for key 1 to \"Wolf\""
   ]
  },
  {
   "cell_type": "code",
   "execution_count": null,
   "id": "0f8023bb",
   "metadata": {},
   "outputs": [],
   "source": []
  },
  {
   "cell_type": "code",
   "execution_count": null,
   "id": "f2e5ee78",
   "metadata": {},
   "outputs": [],
   "source": []
  },
  {
   "cell_type": "code",
   "execution_count": null,
   "id": "829b8f80",
   "metadata": {},
   "outputs": [],
   "source": []
  },
  {
   "cell_type": "markdown",
   "id": "bab05e2c",
   "metadata": {},
   "source": [
    "### Adding Dictionary Items\n",
    "\n",
    "As you just saw, you can easily add items to a dictionary by referencing a new key and value. "
   ]
  },
  {
   "cell_type": "code",
   "execution_count": 29,
   "id": "0ba6862c",
   "metadata": {},
   "outputs": [
    {
     "name": "stdout",
     "output_type": "stream",
     "text": [
      "{1: 'Blue', 2: 'Purple', 3: 'Yellow', 4: 'Green', 5: 'Red'}\n"
     ]
    }
   ],
   "source": [
    "## define a dictionary of color and number pairs\n",
    "\n",
    "colors = {1: \"Blue\", 2: \"Purple\", 3: \"Yellow\", 4: \"Green\", 5: \"Red\"}\n",
    "\n",
    "print(colors)"
   ]
  },
  {
   "cell_type": "code",
   "execution_count": 30,
   "id": "f8be9281",
   "metadata": {},
   "outputs": [
    {
     "name": "stdout",
     "output_type": "stream",
     "text": [
      "{1: 'Blue', 2: 'Purple', 3: 'Yellow', 4: 'Green', 5: 'Red', 6: 'White'}\n"
     ]
    }
   ],
   "source": [
    "## add an item to the end of the dictionary\n",
    "\n",
    "## add an item by using a new index key [] and assigning it a value\n",
    "colors[6] = \"White\"\n",
    "\n",
    "print(colors)"
   ]
  },
  {
   "cell_type": "code",
   "execution_count": 35,
   "id": "f2054589",
   "metadata": {},
   "outputs": [
    {
     "name": "stdout",
     "output_type": "stream",
     "text": [
      "{1: 'Blue', 2: 'Purple', 3: 'Yellow', 4: 'Green', 5: 'Red', 6: 'White', 7: 'Orange', 8: 'Pink'}\n"
     ]
    }
   ],
   "source": [
    "## use the update() method to add multiple items\n",
    "\n",
    "colors.update({7: \"Orange\", 8: \"Pink\"})\n",
    "\n",
    "print(colors)"
   ]
  },
  {
   "cell_type": "markdown",
   "id": "5301ff9c",
   "metadata": {},
   "source": [
    "### Removing Dictionary Items\n",
    "\n",
    "You can use several different methods to remove items from a dictionary. Some methods are similar to what you will use with a list. "
   ]
  },
  {
   "cell_type": "code",
   "execution_count": 42,
   "id": "f0a14ac3",
   "metadata": {},
   "outputs": [
    {
     "name": "stdout",
     "output_type": "stream",
     "text": [
      "{1: 'Blue', 2: 'Purple', 3: 'Yellow', 4: 'Green', 5: 'Red'}\n"
     ]
    }
   ],
   "source": [
    "## define a dictionary of color and number pairs\n",
    "\n",
    "colors = {1: \"Blue\", 2: \"Purple\", 3: \"Yellow\", 4: \"Green\", 5: \"Red\"}\n",
    "\n",
    "print(colors)"
   ]
  },
  {
   "cell_type": "markdown",
   "id": "20ba76bd",
   "metadata": {},
   "source": [
    "#### the pop() method\n",
    "\n",
    "Use the pop() method to remove an item given a specific key name. "
   ]
  },
  {
   "cell_type": "code",
   "execution_count": 43,
   "id": "638729b9",
   "metadata": {},
   "outputs": [
    {
     "name": "stdout",
     "output_type": "stream",
     "text": [
      "{1: 'Blue', 2: 'Purple', 4: 'Green', 5: 'Red'}\n"
     ]
    }
   ],
   "source": [
    "## use the pop() method to remove a specific item given a specific key name\n",
    "\n",
    "colors.pop(3)\n",
    "\n",
    "## the entire item is removed\n",
    "\n",
    "print(colors)"
   ]
  },
  {
   "cell_type": "code",
   "execution_count": 44,
   "id": "0e809973",
   "metadata": {},
   "outputs": [
    {
     "name": "stdout",
     "output_type": "stream",
     "text": [
      "Blue\n",
      "{2: 'Purple', 4: 'Green', 5: 'Red'}\n"
     ]
    }
   ],
   "source": [
    "## store the popped value to a variable\n",
    "\n",
    "x = colors.pop(1)\n",
    "\n",
    "print(x)\n",
    "print(colors)"
   ]
  },
  {
   "cell_type": "markdown",
   "id": "9759d08c",
   "metadata": {},
   "source": [
    "#### the popitem() method\n",
    "\n",
    "Use the popitem() method to remove the last item listed in the dictionary. "
   ]
  },
  {
   "cell_type": "code",
   "execution_count": 45,
   "id": "cd5933b6",
   "metadata": {},
   "outputs": [
    {
     "name": "stdout",
     "output_type": "stream",
     "text": [
      "{1: 'Blue', 2: 'Purple', 3: 'Yellow', 4: 'Green', 5: 'Red'}\n"
     ]
    }
   ],
   "source": [
    "colors = {1: \"Blue\", 2: \"Purple\", 3: \"Yellow\", 4: \"Green\", 5: \"Red\"}\n",
    "print(colors)"
   ]
  },
  {
   "cell_type": "code",
   "execution_count": 46,
   "id": "6c1dc1da",
   "metadata": {},
   "outputs": [
    {
     "name": "stdout",
     "output_type": "stream",
     "text": [
      "{1: 'Blue', 2: 'Purple', 3: 'Yellow', 4: 'Green'}\n"
     ]
    }
   ],
   "source": [
    "## remove the last item in the dictionary\n",
    "# don't need to specify a key name \n",
    "\n",
    "colors.popitem()\n",
    "\n",
    "## check the changes\n",
    "\n",
    "print(colors)"
   ]
  },
  {
   "cell_type": "markdown",
   "id": "240cf297",
   "metadata": {},
   "source": [
    "#### the clear() method\n",
    "\n",
    "Use the clear() method to clear out an entire dictionary of all items. "
   ]
  },
  {
   "cell_type": "code",
   "execution_count": 47,
   "id": "2fea4752",
   "metadata": {},
   "outputs": [
    {
     "name": "stdout",
     "output_type": "stream",
     "text": [
      "BEFORE:  {1: 'Blue', 2: 'Purple', 3: 'Yellow', 4: 'Green'}\n",
      "AFTER:  {}\n"
     ]
    }
   ],
   "source": [
    "## use the clear method to remove ALL items from a dictionary \n",
    "\n",
    "print(\"BEFORE: \", colors)\n",
    "\n",
    "colors.clear()\n",
    "\n",
    "print(\"AFTER: \", colors)"
   ]
  },
  {
   "cell_type": "markdown",
   "id": "079e957c",
   "metadata": {},
   "source": [
    "## [ Exercise 5 ]\n",
    "\n",
    "Using the dictionary \"grade_book\" shown below, complete the following steps:\n",
    "\n",
    "* Add two students - their names are \"Susie\" and \"Melvin\". Susie got a grade of 98 and Melvin got a grade of 84. \n",
    "* Add a student without using the update() method; this students name is \"Lily\" and she got a grade of 76. \n",
    "* Add a student named \"Max\", they missed the exam and have to retake it; their grade is \"Unknown\". \n",
    "* Remove the item with the key name \"Ricky\"\n",
    "* Remove the last item in the dictionary "
   ]
  },
  {
   "cell_type": "code",
   "execution_count": null,
   "id": "111f26e0",
   "metadata": {},
   "outputs": [],
   "source": [
    "grade_book = {\"Emma\": 77, \"Thomas\": 100, \"Ricky\": 56, \"Sammie\": 91, \"Jade\": 88, \"Taylor\": 83}"
   ]
  },
  {
   "cell_type": "code",
   "execution_count": null,
   "id": "0d6c92bc",
   "metadata": {},
   "outputs": [],
   "source": []
  },
  {
   "cell_type": "code",
   "execution_count": null,
   "id": "1a537c28",
   "metadata": {},
   "outputs": [],
   "source": []
  },
  {
   "cell_type": "markdown",
   "id": "81ca4624",
   "metadata": {},
   "source": [
    "## Looping Dictionaries \n",
    "\n",
    "You can use a for-loop to iterate through the items in a dictionary. When looping through a dictionary, you typically will return the key names, however, it is also possible to return the values paired to the specific keys. "
   ]
  },
  {
   "cell_type": "code",
   "execution_count": 65,
   "id": "ad2bfad9",
   "metadata": {},
   "outputs": [
    {
     "name": "stdout",
     "output_type": "stream",
     "text": [
      "{'MD': 'Anapolis', 'CA': 'San Diego', 'KS': 'Wichita', 'CO': 'Denver', 'FL': 'Jacksonville'}\n"
     ]
    }
   ],
   "source": [
    "## define a dictionary of cities and states\n",
    "\n",
    "travel = {\"MD\": \"Anapolis\", \"CA\": \"San Diego\", \"KS\": \"Wichita\", \"CO\": \"Denver\", \"FL\": \"Jacksonville\"}\n",
    "\n",
    "print(travel)"
   ]
  },
  {
   "cell_type": "code",
   "execution_count": 66,
   "id": "350e7f2c",
   "metadata": {},
   "outputs": [
    {
     "name": "stdout",
     "output_type": "stream",
     "text": [
      "MD\n",
      "CA\n",
      "KS\n",
      "CO\n",
      "FL\n"
     ]
    }
   ],
   "source": [
    "## print all key names found in the travel dictionary\n",
    "\n",
    "for key in travel:\n",
    "    print(key)"
   ]
  },
  {
   "cell_type": "code",
   "execution_count": 67,
   "id": "595b2e4a",
   "metadata": {},
   "outputs": [
    {
     "name": "stdout",
     "output_type": "stream",
     "text": [
      "MD\n",
      "CA\n",
      "KS\n",
      "CO\n",
      "FL\n"
     ]
    }
   ],
   "source": [
    "## method 2: print all the keys found in the travel dictionary\n",
    "# use the keys() method at the end of the dictionary name\n",
    "\n",
    "for key in travel.keys():\n",
    "    print(key)"
   ]
  },
  {
   "cell_type": "code",
   "execution_count": 68,
   "id": "f1d418d1",
   "metadata": {},
   "outputs": [
    {
     "name": "stdout",
     "output_type": "stream",
     "text": [
      "Anapolis\n",
      "San Diego\n",
      "Wichita\n",
      "Denver\n",
      "Jacksonville\n"
     ]
    }
   ],
   "source": [
    "## print all the values found in the travel dictionary\n",
    "\n",
    "for value in travel:\n",
    "    print(travel[value])"
   ]
  },
  {
   "cell_type": "code",
   "execution_count": 69,
   "id": "20b72e66",
   "metadata": {},
   "outputs": [
    {
     "name": "stdout",
     "output_type": "stream",
     "text": [
      "Anapolis\n",
      "San Diego\n",
      "Wichita\n",
      "Denver\n",
      "Jacksonville\n"
     ]
    }
   ],
   "source": [
    "## method 2: print all the values found in the travel dictionary\n",
    "# use the values() method at the end of the dictionary name\n",
    "\n",
    "for value in travel.values():\n",
    "    print(value)"
   ]
  },
  {
   "cell_type": "code",
   "execution_count": 70,
   "id": "d8967249",
   "metadata": {},
   "outputs": [
    {
     "name": "stdout",
     "output_type": "stream",
     "text": [
      "MD Anapolis\n",
      "CA San Diego\n",
      "KS Wichita\n",
      "CO Denver\n",
      "FL Jacksonville\n"
     ]
    }
   ],
   "source": [
    "## loop through both keys and values using the items() method\n",
    "\n",
    "for key, value in travel.items():\n",
    "    print(key, value)"
   ]
  },
  {
   "cell_type": "code",
   "execution_count": 72,
   "id": "7c2b01c7",
   "metadata": {},
   "outputs": [
    {
     "name": "stdout",
     "output_type": "stream",
     "text": [
      "{'1 BR': 1100, '2 BR': 1400, '3 BR': 2000, 'Studio': 890}\n"
     ]
    }
   ],
   "source": [
    "## dictionary with housing size and rent cost\n",
    "\n",
    "rentals = {\"1 BR\": 1100, \"2 BR\": 1400, \"3 BR\": 2000, \"Studio\": 890}\n",
    "\n",
    "print(rentals)"
   ]
  },
  {
   "cell_type": "code",
   "execution_count": 75,
   "id": "84eab761",
   "metadata": {},
   "outputs": [
    {
     "name": "stdout",
     "output_type": "stream",
     "text": [
      "The apartment size is 1 BR and the monthly rent is $1,100.00.\n",
      "The apartment size is 2 BR and the monthly rent is $1,400.00.\n",
      "The apartment size is 3 BR and the monthly rent is $2,000.00.\n",
      "The apartment size is Studio and the monthly rent is $890.00.\n"
     ]
    }
   ],
   "source": [
    "for key, value in rentals.items():\n",
    "    print(f\"The apartment size is {key} and the monthly rent is ${value:,.2f}.\")"
   ]
  },
  {
   "cell_type": "code",
   "execution_count": 78,
   "id": "9e032dc1",
   "metadata": {
    "scrolled": true
   },
   "outputs": [
    {
     "name": "stdout",
     "output_type": "stream",
     "text": [
      "This is a great deal!\n",
      "The apartment size is 1 BR and the monthly rent is $1,100.00.\n",
      "The apartment size is 2 BR and the monthly rent is $1,400.00.\n",
      "The apartment size is 3 BR and the monthly rent is $2,000.00.\n",
      "This is a great deal!\n",
      "The apartment size is Studio and the monthly rent is $890.00.\n"
     ]
    }
   ],
   "source": [
    "for key, value in rentals.items():\n",
    "    if value < 1300:\n",
    "        print(\"This is a great deal!\") \n",
    "    print(f\"The apartment size is {key} and the monthly rent is ${value:,.2f}.\")"
   ]
  },
  {
   "cell_type": "markdown",
   "id": "c4c9353c",
   "metadata": {},
   "source": [
    "## [ Exercise 6 ]\n",
    "\n",
    "Using the original gradebook dictionary below, complete the following tasks: \n",
    "\n",
    "* Create a for-loop to print all the keys for the gradebook dictionary\n",
    "* Create a for-loop to print all the values for the gradebook dictionary\n",
    "* Create a for-loop to print all items from the gradebook dictionary; print the items name first and then grade\n",
    "* Create a for-loop to print all the items from gradebook dictionary; print all items using a formatted string. Each item should print using the sentence: STUDENT NAME took the history exam and received the grade of GRADE. \n",
    "* Create a for-loop to print all the values from the gradebook, if the grade if greater than 79, print \"Great job!\", otherwise print \"Better luck next time!\". "
   ]
  },
  {
   "cell_type": "code",
   "execution_count": null,
   "id": "e34dbf15",
   "metadata": {},
   "outputs": [],
   "source": [
    "grade_book = {\"Emma\": 77, \"Thomas\": 100, \"Ricky\": 56, \"Sammie\": 91, \"Jade\": 88, \"Taylor\": 83}"
   ]
  },
  {
   "cell_type": "code",
   "execution_count": null,
   "id": "71120f05",
   "metadata": {},
   "outputs": [],
   "source": []
  },
  {
   "cell_type": "code",
   "execution_count": null,
   "id": "c80aa563",
   "metadata": {},
   "outputs": [],
   "source": []
  },
  {
   "cell_type": "markdown",
   "id": "e0605010",
   "metadata": {},
   "source": [
    "## Nested Dictionaries \n",
    "\n",
    "A dictionary can contain various data types -- including other dictionaries!"
   ]
  },
  {
   "cell_type": "code",
   "execution_count": 83,
   "id": "5991e4f8",
   "metadata": {},
   "outputs": [
    {
     "name": "stdout",
     "output_type": "stream",
     "text": [
      "{'Bob': {'Drink': 'Milkshake', 'Food': 'Cheeseburger', 'Dessert': 'Brownie'}, 'Janice': {'Drink': 'Water', 'Food': 'Mushroom Pizza', 'Dessert': 'Cheesecake'}, 'Susan': {'Drink': 'Orange Juice', 'Food': 'Lasagna', 'Dessert': 'Chocolate Cake'}}\n"
     ]
    }
   ],
   "source": [
    "## create a dictionary that contains two dictionaries\n",
    "## create one large nested dictionary; use the indentations and spacing to your advantage \n",
    "\n",
    "group_order = {\n",
    "    \"Bob\":\n",
    "    {\"Drink\": \"Milkshake\",\n",
    "    \"Food\": \"Cheeseburger\",\n",
    "    \"Dessert\": \"Brownie\"}, \n",
    "    \n",
    "    \"Janice\":\n",
    "    {\"Drink\": \"Water\",\n",
    "     \"Food\": \"Mushroom Pizza\",\n",
    "     \"Dessert\": \"Cheesecake\"},\n",
    "    \n",
    "    \"Susan\": \n",
    "    {\"Drink\": \"Orange Juice\",\n",
    "    \"Food\": \"Lasagna\",\n",
    "    \"Dessert\": \"Chocolate Cake\"}\n",
    "}\n",
    "\n",
    "## what does this look like when put all together?\n",
    "\n",
    "print(group_order)"
   ]
  },
  {
   "cell_type": "code",
   "execution_count": 84,
   "id": "208e5b4c",
   "metadata": {},
   "outputs": [
    {
     "name": "stdout",
     "output_type": "stream",
     "text": [
      "{'Bob': {'Drink': 'Milkshake', 'Food': 'Cheeseburger', 'Dessert': 'Brownie'}, 'Janice': {'Drink': 'Water', 'Food': 'Mushroom Pizza', 'Dessert': 'Cheesecake'}, 'Susan': {'Drink': 'Orange Juice', 'Food': 'Lasagna', 'Dessert': 'Chocolate Cake'}}\n"
     ]
    }
   ],
   "source": [
    "## create three separate dictionaries and then put them together\n",
    "\n",
    "order_1 = {\"Drink\": \"Milkshake\", \"Food\": \"Cheeseburger\", \"Dessert\": \"Brownie\"}\n",
    "order_2 = {\"Drink\": \"Water\", \"Food\": \"Mushroom Pizza\", \"Dessert\": \"Cheesecake\"}\n",
    "order_3 = {\"Drink\": \"Orange Juice\", \"Food\": \"Lasagna\", \"Dessert\": \"Chocolate Cake\"}\n",
    "\n",
    "## add the defined dictionaries as values; give the values a key name \n",
    "\n",
    "group_order = {\"Bob\": order_1, \"Janice\": order_2, \"Susan\": order_3}\n",
    "\n",
    "## what does this look like when put all together?\n",
    "\n",
    "print(group_order)"
   ]
  },
  {
   "cell_type": "markdown",
   "id": "76ea19ca",
   "metadata": {},
   "source": [
    "## [ Exercise 7 ]\n",
    "\n",
    "You've just been hired as an assistant to a large bank. Your first job is to get acquainted with the banks 5 newest customers - their names, their age, the number of years they've used the bank, the current balance in their checking account, and the current balance in their savings account. \n",
    "\n",
    "Create a dictionary called \"bank_customers\" which includes all this information for each of the 5 customers. You will need to create nested dictionaries to complete this task. Each dictionary key should be the customers name. \n",
    "\n",
    "Once you create the dictionary, create a for loop to print out 1) all the keys in"
   ]
  },
  {
   "cell_type": "code",
   "execution_count": null,
   "id": "6666e50f",
   "metadata": {},
   "outputs": [],
   "source": []
  },
  {
   "cell_type": "code",
   "execution_count": null,
   "id": "48961eae",
   "metadata": {},
   "outputs": [],
   "source": []
  },
  {
   "cell_type": "code",
   "execution_count": null,
   "id": "710a7f5f",
   "metadata": {},
   "outputs": [],
   "source": []
  },
  {
   "cell_type": "code",
   "execution_count": null,
   "id": "6ba1912c",
   "metadata": {},
   "outputs": [],
   "source": []
  }
 ],
 "metadata": {
  "kernelspec": {
   "display_name": "Python 3",
   "language": "python",
   "name": "python3"
  },
  "language_info": {
   "codemirror_mode": {
    "name": "ipython",
    "version": 3
   },
   "file_extension": ".py",
   "mimetype": "text/x-python",
   "name": "python",
   "nbconvert_exporter": "python",
   "pygments_lexer": "ipython3",
   "version": "3.8.8"
  }
 },
 "nbformat": 4,
 "nbformat_minor": 5
}
